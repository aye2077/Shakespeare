{
 "cells": [
  {
   "cell_type": "markdown",
   "id": "b6ddc0d4-d34f-4c92-9df1-0d01795b8645",
   "metadata": {
    "tags": []
   },
   "source": [
    "个人作业"
   ]
  },
  {
   "cell_type": "code",
   "execution_count": 68,
   "id": "c754050e",
   "metadata": {
    "scrolled": true,
    "tags": []
   },
   "outputs": [
    {
     "name": "stdout",
     "output_type": "stream",
     "text": [
      "Hello，包老师能不能多给点分，谢谢包老师，包老师辛苦了\n"
     ]
    }
   ],
   "source": [
    "print('Hello，包老师能不能多给点分，谢谢包老师，包老师辛苦了')"
   ]
  },
  {
   "cell_type": "code",
   "execution_count": 69,
   "id": "954d1bf8",
   "metadata": {
    "scrolled": true
   },
   "outputs": [
    {
     "name": "stdout",
     "output_type": "stream",
     "text": [
      "--------------------------------------------------\n"
     ]
    }
   ],
   "source": [
    "print('-'*50)"
   ]
  },
  {
   "cell_type": "markdown",
   "id": "e16d27b5-7c56-4c11-ac94-42a2d4080aa2",
   "metadata": {},
   "source": [
    "运算"
   ]
  },
  {
   "cell_type": "code",
   "execution_count": 70,
   "id": "c15e64bc-79db-4e80-a691-0308b2e2529d",
   "metadata": {
    "tags": []
   },
   "outputs": [],
   "source": [
    "A=10\n",
    "B=7\n",
    "C=3\n",
    "\n",
    "#定义变量A和B和C"
   ]
  },
  {
   "cell_type": "code",
   "execution_count": 78,
   "id": "aecd6f2e",
   "metadata": {},
   "outputs": [
    {
     "name": "stdout",
     "output_type": "stream",
     "text": [
      "23.333333333333332\n",
      "14\n",
      "1\n"
     ]
    }
   ],
   "source": [
    "print(A*B/C)      #乘* 除/\n",
    "print(A+B-C)      #加+ 减-\n",
    "print(A//B%C)     #除法取整数// 取余数% "
   ]
  },
  {
   "cell_type": "code",
   "execution_count": 71,
   "id": "ecc21e9d",
   "metadata": {},
   "outputs": [
    {
     "name": "stdout",
     "output_type": "stream",
     "text": [
      "4\n"
     ]
    }
   ],
   "source": [
    "print(B^C)\n",
    "\n",
    "#B=7=111(即从十进制转换为二进制)\n",
    "#C=3=11\n",
    "#4=100\n",
    "#  ^ 对于整数，执行二进制的按位异或操作;相异输出1，相同输出0"
   ]
  },
  {
   "cell_type": "code",
   "execution_count": 72,
   "id": "57b2c78f",
   "metadata": {},
   "outputs": [],
   "source": [
    "#jupyter 多行注释不能使用\"\"\"  \"\"\",可以长按Alt进行多行注释"
   ]
  },
  {
   "cell_type": "code",
   "execution_count": 74,
   "id": "c595967c",
   "metadata": {
    "tags": []
   },
   "outputs": [
    {
     "name": "stdout",
     "output_type": "stream",
     "text": [
      "True\n",
      "False\n",
      "False\n",
      "True\n",
      "True\n",
      "False\n"
     ]
    }
   ],
   "source": [
    "print(A is not B)      #如果变量a和b指向不同的python对象，则结果为Tru\n",
    "print(A is B)          #如果变量a和b指向同一个python对象，则结果为True\n",
    "print(A==B)            #a==b\t如果a等于b，则结果为True\n",
    "print(A!=B)            #a!=b\t如果a不等于b，则结果为True\n",
    "print(A>=B)            #a>b、a>=b\t如果a大于(或大于等于)b，则结果为True\n",
    "print(A<=B)            #a<=b、a<b\t如果a小于等于(或小于)b，则结果为True"
   ]
  },
  {
   "cell_type": "markdown",
   "id": "8ddcc1f2-9b41-48ea-9d25-4080beddb628",
   "metadata": {},
   "source": [
    "变量与赋值"
   ]
  },
  {
   "cell_type": "code",
   "execution_count": 75,
   "id": "3442c8e1",
   "metadata": {
    "tags": []
   },
   "outputs": [
    {
     "name": "stdout",
     "output_type": "stream",
     "text": [
      "长江\n"
     ]
    }
   ],
   "source": [
    "The_Yangtze_River='长江'\n",
    "print(The_Yangtze_River)\n",
    "\n",
    "#变量赋值不能用数字开头 ,不存在空格"
   ]
  },
  {
   "cell_type": "code",
   "execution_count": 76,
   "id": "1633c7c2-d8d1-4729-b017-b5f684bf8bb2",
   "metadata": {},
   "outputs": [
    {
     "name": "stdout",
     "output_type": "stream",
     "text": [
      "2\n",
      "numb\n",
      "number2.0000\n",
      "number=2.000\n",
      "number=2.00\n"
     ]
    }
   ],
   "source": [
    "x=2\n",
    "numb=4//x\n",
    "print(numb)\n",
    "print(\"numb\")    #带\"时输出字符，不带时输出变量\n",
    "print(\"number%.4f\"%numb)\n",
    "print(\"number=%.3f\"%numb)\n",
    "print(\"number={0:.2f}\".format(numb))#"
   ]
  },
  {
   "cell_type": "code",
   "execution_count": 77,
   "id": "ed4b0780",
   "metadata": {
    "tags": []
   },
   "outputs": [],
   "source": [
    "#  %.xf\"% num                 ←是表达式： \n",
    "#  \"{:.xf}\".format(num)       ←是字符串对象的方法：\n",
    "#                             x表示保留x位"
   ]
  },
  {
   "cell_type": "code",
   "execution_count": 78,
   "id": "de075073-19d7-4f32-b13b-589581f99606",
   "metadata": {
    "tags": []
   },
   "outputs": [
    {
     "name": "stdout",
     "output_type": "stream",
     "text": [
      "全世界目前有79.32亿的人，而中国就占了世界人口的五分之一左右,有14.5015亿人。\n",
      "人口第二和第三多的国家是有14.050亿人的印度与3.346亿人的美国。\n"
     ]
    }
   ],
   "source": [
    "numb1=79.3156\n",
    "numb2=14.50146\n",
    "print(\"全世界目前有{peo1:.2f}亿的人，而中国就占了世界人口的五分之一左右,有{peo2:.4f}亿人。\".format(peo1=numb1,peo2=numb2))\n",
    "print(\"人口第二和第三多的国家是有{numb3:.3f}亿人的印度与{numb4:.3f}亿人的美国。\".format(numb3=14.0502,numb4=3.3459))"
   ]
  },
  {
   "cell_type": "code",
   "execution_count": 79,
   "id": "92446113-4b8e-4c54-bfda-bc136d52e692",
   "metadata": {},
   "outputs": [
    {
     "name": "stdout",
     "output_type": "stream",
     "text": [
      "1 [2, 3, 4] 5\n",
      "1 2\n",
      "number=-0.667\n",
      "number=1.000\n"
     ]
    }
   ],
   "source": [
    "x,*y,z=1,2,3,4,5  #序列解包，* 获取的值默认为 list\n",
    "print(x,y,z)\n",
    "x,*y,z=1,2\n",
    "print(x,*y,z)\n",
    "(a,b),(c,d)=(1,2),(3,4)\n",
    "numb=a/c*d-b\n",
    "print(\"number={:.3f}\".format(numb,a,b,c,d))\n",
    "print(\"number={:.3f}\".format(a,b,c,d,numb))#注意前后顺序，不同顺序，不同结果"
   ]
  },
  {
   "cell_type": "markdown",
   "id": "52a7438e-d705-48c1-8e0e-c590dab2a7c8",
   "metadata": {},
   "source": [
    "数据结构"
   ]
  },
  {
   "cell_type": "code",
   "execution_count": 80,
   "id": "97e256a6-f219-4b06-b97c-abf8cb215f00",
   "metadata": {},
   "outputs": [
    {
     "name": "stdout",
     "output_type": "stream",
     "text": [
      "111到211中最大的3的倍数是210,最小的3的倍数是111\n",
      "111到211中3的倍数有34个，有 [111, 114, 117, 120, 123, 126, 129, 132, 135, 138, 141, 144, 147, 150, 153, 156, 159, 162, 165, 168, 171, 174, 177, 180, 183, 186, 189, 192, 195, 198, 201, 204, 207, 210]\n"
     ]
    }
   ],
   "source": [
    "name_list=list(range(111,211,3))    #list->建立列表。range(start,stop,[,step])建立区间。\n",
    "print(\"111到211中最大的3的倍数是{},最小的3的倍数是{}\".format(max(name_list),(min(name_list))))\n",
    "print(\"111到211中3的倍数有{}个，有\".format(len(name_list)),name_list)\n",
    "\n",
    "#1\tcmp(list1, list2)\n",
    "#比较两个列表的元素    （Python2可用，python3不可用）\n",
    "#2\tlen(list)\n",
    "#列表元素个数\n",
    "#3\tmax(list)\n",
    "#返回列表元素最大值\n",
    "#4\tmin(list)\n",
    "#返回列表元素最小值\n",
    "#5\tlist(seq)\n",
    "#将元组转换为列表"
   ]
  },
  {
   "cell_type": "markdown",
   "id": "79d9d57c-e20a-49c6-85e9-f73a6f316b41",
   "metadata": {},
   "source": [
    "分片(List Slices)"
   ]
  },
  {
   "cell_type": "code",
   "execution_count": 81,
   "id": "a84dd95f-5967-48e3-86eb-749be938d1ae",
   "metadata": {
    "tags": []
   },
   "outputs": [
    {
     "name": "stdout",
     "output_type": "stream",
     "text": [
      "<map object at 0x0000029F3F6394F0>\n",
      "['d', 'e', 'f', 'g', 'h', 'i', 'j', 'k', 'l', 'm', 'n', 'o', 'p', 'q', 'r', 's', 't', 'u', 'v', 'w']\n"
     ]
    }
   ],
   "source": [
    "listt=map(chr,range(100,120))\n",
    "print(listt)\n",
    "listt=list(map(chr,range(100,120)))\n",
    "print(listt)\n",
    "\n",
    "#chr()用一个范围整数作参数，返回一个对应的字符\n",
    "#map()会根据提供的函数对指定序列做映射。\n",
    "#第一个参数function以参数序列中的每一个元素调用function函数，返回包含每次function函数返回值的新列表。\n",
    "#map函数语法-> map(function, iterable, ...)   function -- 函数  iterable -- 一个或多个序列"
   ]
  },
  {
   "cell_type": "code",
   "execution_count": 82,
   "id": "677fa74f-6c25-4fbf-b43d-93845ac19403",
   "metadata": {},
   "outputs": [
    {
     "name": "stdout",
     "output_type": "stream",
     "text": [
      "[:]->['d', 'e', 'f', 'g', 'h', 'i', 'j', 'k', 'l', 'm', 'n', 'o', 'p', 'q', 'r', 's', 't', 'u', 'v', 'w']\n",
      "[:5]->['d', 'e', 'f', 'g', 'h']\n",
      "[-2:]->['v', 'w']\n",
      "[-2:5]->[]\n",
      "\n"
     ]
    }
   ],
   "source": [
    "listt=list(map(chr,range(100,120)))\n",
    "print(\"[:]->{}\".format(listt[:]))            #输出要求的字符串 \n",
    "print(\"[:5]->{}\".format(listt[:5]))          #提取字符串的前五位\n",
    "print(\"[-2:]->{}\".format(listt[-2:]))        #提取字符串倒数两位\n",
    "print(\"[-2:5]->{}\".format(listt[-2:5]))      #提取字符串的前五位与倒数两位\n",
    "print(\"\")\n",
    "#字符串是字符的有序集合，可以通过其位置来获得具体的元素。在 python中，字符串中的字符是通过索引来提取的，索引从0开始。\n",
    "#python可以取负值，表示从末尾提取，最后一个为 -1，倒数第二个为 -2，即程序认为可以从结束处反向计数。"
   ]
  },
  {
   "cell_type": "markdown",
   "id": "b26da81d-8b01-47e6-ab21-49e4899af760",
   "metadata": {},
   "source": [
    "列表索引示例"
   ]
  },
  {
   "cell_type": "code",
   "execution_count": 84,
   "id": "6e5fe8f2-b3d6-4c15-a0c4-4335fe5ffa44",
   "metadata": {},
   "outputs": [
    {
     "name": "stdout",
     "output_type": "stream",
     "text": [
      "Help on _Helper in module _sitebuiltins object:\n",
      "\n",
      "class _Helper(builtins.object)\n",
      " |  Define the builtin 'help'.\n",
      " |  \n",
      " |  This is a wrapper around pydoc.help that provides a helpful message\n",
      " |  when 'help' is typed at the Python interactive prompt.\n",
      " |  \n",
      " |  Calling help() at the Python prompt starts an interactive help session.\n",
      " |  Calling help(thing) prints help for the python object 'thing'.\n",
      " |  \n",
      " |  Methods defined here:\n",
      " |  \n",
      " |  __call__(self, *args, **kwds)\n",
      " |      Call self as a function.\n",
      " |  \n",
      " |  __repr__(self)\n",
      " |      Return repr(self).\n",
      " |  \n",
      " |  ----------------------------------------------------------------------\n",
      " |  Data descriptors defined here:\n",
      " |  \n",
      " |  __dict__\n",
      " |      dictionary for instance variables (if defined)\n",
      " |  \n",
      " |  __weakref__\n",
      " |      list of weak references to the object (if defined)\n",
      "\n"
     ]
    }
   ],
   "source": [
    "help(help)   #help() 查看说明"
   ]
  },
  {
   "cell_type": "markdown",
   "id": "586afde9-3e19-4383-9fb8-0981960ceb85",
   "metadata": {},
   "source": [
    "带有步长(step length)参数的分片。"
   ]
  },
  {
   "cell_type": "code",
   "execution_count": 85,
   "id": "1d954ccd-1d57-4ad1-b8e1-ea790ce84cb6",
   "metadata": {},
   "outputs": [
    {
     "name": "stdout",
     "output_type": "stream",
     "text": [
      "['d', 'e', 'f', 'g', 'h', 'i', 'j', 'k', 'l', 'm', 'n', 'o', 'p', 'q', 'r', 's', 't', 'u', 'v', 'w']\n",
      "__________________________________________________\n",
      "[::2]->['d', 'f', 'h', 'j', 'l', 'n', 'p', 'r', 't', 'v']\n",
      "[:20:]->['d', 'e', 'f', 'g', 'h', 'i', 'j', 'k', 'l', 'm', 'n', 'o', 'p', 'q', 'r', 's', 't', 'u', 'v', 'w']\n",
      "[:10:-4]->['w', 's', 'o']\n",
      "[8:2:-4]->['l', 'h']\n",
      "[-17:0:]->[]\n"
     ]
    }
   ],
   "source": [
    "listt=list(map(chr,range(100,120)))\n",
    "print(listt)\n",
    "print(\"_\"*50)\n",
    "print(\"[::2]->{}\".format(listt[::2]))\n",
    "print(\"[:20:]->{}\".format(listt[:20:]))\n",
    "print(\"[:10:-4]->{}\".format(listt[:10:-4]))\n",
    "print(\"[8:2:-4]->{}\".format(listt[8:2:-4]))\n",
    "print(\"[-17:0:]->{}\".format(listt[-17:0:]))\n",
    "\n",
    "#    List[a：b：s]\n",
    "#         a:b  :s \n",
    "#          ↑    ↑\n",
    "#        索引  步长"
   ]
  },
  {
   "cell_type": "markdown",
   "id": "0cb3399d-be8e-4c8c-b473-e63f31146f0d",
   "metadata": {},
   "source": [
    "元素赋值+分片赋值+删除元素+列表相加+列表的乘法"
   ]
  },
  {
   "cell_type": "code",
   "execution_count": 2,
   "id": "2b508bd9-375a-4516-9947-854c42573c35",
   "metadata": {},
   "outputs": [
    {
     "name": "stdout",
     "output_type": "stream",
     "text": [
      "['ߍ', 'ߎ', 'ߏ', 'ߐ', 'ߑ', 'ߒ', 'ߓ', 'ߔ', 'ߕ', 'ߖ', 'ߗ', 'ߘ', 'ߙ', 'ߚ', 'ߛ', 'ߜ', 'ߝ', 'ߞ', 'ߟ', 'ߠ', 'ߡ', 'ߢ', 'ߣ', 'ߤ']\n",
      "____________________________________________________________________________________________________\n",
      "EVA[8]=8>>>['ߍ', 'ߎ', 'ߏ', 'ߐ', 'ߑ', 'ߒ', 'ߓ', 'ߔ', 8, 'ߖ', 'ߗ', 'ߘ', 'ߙ', 'ߚ', 'ߛ', 'ߜ', 'ߝ', 'ߞ', 'ߟ', 'ߠ', 'ߡ', 'ߢ', 'ߣ', 'ߤ']\n",
      "['ߍ', 'ߎ', 'ߏ', 'ߐ', 'ߑ', 'ߒ', 'ߓ', 'ߔ', 8, 'ߖ', 'ߗ', 'ߘ', 'ߙ', 'ߚ', 'ߛ', 'ߜ', 'ߝ', 'ߞ', 'ߟ', 'ߠ', 'ߡ', 'ߢ', 'ߣ', 'ߤ', None, None, None]\n",
      "EVA_END[-6:-3]=list(range(100,104,2))->['ߍ', 'ߎ', 'ߏ', 'ߐ', 'ߑ', 'ߒ', 'ߓ', 'ߔ', 8, 'ߖ', 'ߗ', 'ߘ', 'ߙ', 'ߚ', 'ߛ', 'ߜ', 'ߝ', 'ߞ', 'ߟ', 'ߠ', 'ߡ', 100, 102, None, None, None]\n",
      "EVA_END[1:1]=[0,0,12]->['ߍ', 0, 0, 12, 'ߎ', 'ߏ', 'ߐ', 'ߑ', 'ߒ', 'ߓ', 'ߔ', 8, 'ߖ', 'ߗ', 'ߘ', 'ߙ', 'ߚ', 'ߛ', 'ߜ', 'ߝ', 'ߞ', 'ߟ', 'ߠ', 'ߡ', 100, 102, None, None, None]\n",
      "del EVA_END[-2:]->['ߍ', 0, 0, 12, 'ߎ', 'ߏ', 'ߐ', 'ߑ', 'ߒ', 'ߓ', 'ߔ', 8, 'ߖ', 'ߗ', 'ߘ', 'ߙ', 'ߚ', 'ߛ', 'ߜ', 'ߝ', 'ߞ', 'ߟ', 'ߠ', 'ߡ', 100, 102, None]\n"
     ]
    }
   ],
   "source": [
    "EVA=list(map(chr,range(1997,2021)))\n",
    "print(EVA)\n",
    "print(\"_\"*100)\n",
    "EVA[8]=8  #元素赋值\n",
    "print(\"EVA[8]=8>>>{}\".format(EVA))\n",
    "EVA_END=EVA+[None]*3\n",
    "print(EVA_END)\n",
    "EVA_END[-6:-3]=list(range(100,104,2)) #分片赋值\n",
    "print(\"EVA_END[-6:-3]=list(range(100,104,2))->{}\".format(EVA_END))\n",
    "EVA_END[1:1]=[0,0,12]\n",
    "print(\"EVA_END[1:1]=[0,0,12]->{}\".format(EVA_END))\n",
    "del EVA_END[-2:] #删除元素\n",
    "print(\"del EVA_END[-2:]->{}\".format(EVA_END))"
   ]
  },
  {
   "cell_type": "markdown",
   "id": "03d7a0d5-d8d4-4ede-bd06-f571a4f29bcc",
   "metadata": {},
   "source": [
    "tuple"
   ]
  },
  {
   "cell_type": "code",
   "execution_count": 3,
   "id": "cb962f94-a8e0-4f50-ad65-a759a9922c6e",
   "metadata": {},
   "outputs": [
    {
     "name": "stdout",
     "output_type": "stream",
     "text": [
      "tuple_1=2,3,5,->(2, 3, 5)\n",
      "3*(20*3,)->(60, 60, 60)\n",
      "tuple((5,8,9))->(5, 8, 9)\n",
      "tuple([5,8,9])->(5, 8, 9)\n"
     ]
    }
   ],
   "source": [
    "tuple_1=2,3,5,\n",
    "print(\"tuple_1=2,3,5,->{}\".format(tuple_1))\n",
    "print(\"3*(20*3,)->{}\".format(3*(20*3,)))\n",
    "print(\"tuple((5,8,9))->{}\".format(tuple((5,8,9)))) #用()\n",
    "print(\"tuple([5,8,9])->{}\".format(tuple([5,8,9]))) #用[]"
   ]
  },
  {
   "cell_type": "markdown",
   "id": "2512d83c-bb73-4aeb-83e4-ad9fd3e5150b",
   "metadata": {},
   "source": [
    "DICT"
   ]
  },
  {
   "cell_type": "markdown",
   "id": "86c19c18-d31a-473d-b626-624475dfc049",
   "metadata": {},
   "source": [
    "使用dict()函数建立字典"
   ]
  },
  {
   "cell_type": "code",
   "execution_count": 4,
   "id": "13f6f510-f04a-4383-aff0-8a31faae05b7",
   "metadata": {},
   "outputs": [
    {
     "name": "stdout",
     "output_type": "stream",
     "text": [
      "items->[(0, [0, 1, 2, 3, 4]), (1, [[193, 133, 160]]), (2, 'python')]\n",
      "dic=dict(items)->{0: [0, 1, 2, 3, 4], 1: [[193, 133, 160]], 2: 'python'}\n",
      "dic[1]->[[193, 133, 160]]\n"
     ]
    }
   ],
   "source": [
    "import random\n",
    "items=[(0,[i for i in range(5)]),(1,[random.sample(list(range(100,200,1)),3)]),(2,'python')] #[i for i in range(5)] 为列表推导式 list comprehension/derivation\n",
    "print(\"items->{}\".format(items))\n",
    "dic=dict(items)\n",
    "print(\"dic=dict(items)->{}\".format(dic))\n",
    "print(\"dic[1]->{}\".format(dic[1]))\n"
   ]
  },
  {
   "cell_type": "markdown",
   "id": "45d36f01-c533-481c-abe6-7346b44dd47f",
   "metadata": {},
   "source": [
    "字典的基本操作"
   ]
  },
  {
   "cell_type": "code",
   "execution_count": 5,
   "id": "13a9ce0c-b038-44f2-b4d2-6af61de52e17",
   "metadata": {},
   "outputs": [
    {
     "name": "stdout",
     "output_type": "stream",
     "text": [
      "len(dic)->3\n",
      "dic[3]=(random.random(),random.uniform(200,300))->{0: [0, 1, 2, 3, 4], 1: [[193, 133, 160]], 2: 'python', 3: (0.8252795666252449, 202.0916800147684)}\n",
      "del dic[1]->{0: [0, 1, 2, 3, 4], 2: 'python', 3: (0.8252795666252449, 202.0916800147684)}\n",
      "3 in dic->True\n",
      "5 in dic->False\n",
      "dic.keys()->dict_keys([0, 2, 3])\n",
      "dic.values()->dict_values([[0, 1, 2, 3, 4], 'python', (0.8252795666252449, 202.0916800147684)])\n",
      "dic.items()->dict_items([(0, [0, 1, 2, 3, 4]), (2, 'python'), (3, (0.8252795666252449, 202.0916800147684))])\n",
      "__________________________________________________\n",
      "list(dic.keys())->[0, 2, 3]\n"
     ]
    }
   ],
   "source": [
    "print(\"len(dic)->{}\".format(len(dic)))\n",
    "dic[3]=(random.random(),random.uniform(200,300))\n",
    "print(\"dic[3]=(random.random(),random.uniform(200,300))->{}\".format(dic))\n",
    "del dic[1]\n",
    "print(\"del dic[1]->{}\".format(dic))\n",
    "print(\"3 in dic->{}\".format(3 in dic))\n",
    "print(\"5 in dic->{}\".format(5 in dic))\n",
    "print(\"dic.keys()->{}\".format(dic.keys())) #应该放在字典的方法一节里\n",
    "print(\"dic.values()->{}\".format(dic.values()))\n",
    "print(\"dic.items()->{}\".format(dic.items()))\n",
    "print(\"_\"*50)\n",
    "print(\"list(dic.keys())->{}\".format(list(dic.keys())))\n"
   ]
  },
  {
   "cell_type": "code",
   "execution_count": 6,
   "id": "2a39c3ef-a9cb-4245-a736-0d934856159e",
   "metadata": {},
   "outputs": [
    {
     "name": "stdout",
     "output_type": "stream",
     "text": [
      "0 (0, [0, 1, 2, 3, 4])\n",
      "1 (2, 'python')\n",
      "2 (3, (0.8252795666252449, 202.0916800147684))\n"
     ]
    }
   ],
   "source": [
    "for k,v in enumerate(dic.items()): #for循环在后文\n",
    "    print(k,v)\n"
   ]
  },
  {
   "cell_type": "markdown",
   "id": "9fbc3501-259c-439d-85f8-a277400101b7",
   "metadata": {},
   "source": [
    "字典的方法"
   ]
  },
  {
   "cell_type": "code",
   "execution_count": 7,
   "id": "4747dcce-fd2b-401f-8261-ece0676326e3",
   "metadata": {},
   "outputs": [
    {
     "name": "stdout",
     "output_type": "stream",
     "text": [
      "lst_A=[6, 9, 12, 15, 18],lst_B=[100, 115, 130, 145]\n",
      "dic_2={0: [6, 9, 12, 15, 18], 1: [100, 115, 130, 145]}\n",
      "__________________________________________________\n",
      "dic_assignment={0: [6, 9, 12, 15, 18], 1: [100, 115, 130, 145]}\n",
      "dic_2.clear()->{}\n",
      "dic_assignment={}\n",
      "dic_2[5]=list(range(1,9,2))->{5: [1, 3, 5, 7]}\n",
      "dic_copy=dic_2.copy()->{5: [1, 3, 5, 7]}\n",
      "dic_2[8]=[5,7]->{5: [1, 3, 5, 7], 8: [5, 7]}\n",
      "dic_copy={5: [1, 3, 5, 7]}\n",
      "dic_copy[5].remove(5)->{5: [1, 3, 7]}\n",
      "dic_copy.setdefault(6,[77,99])->{5: [1, 3, 7], 6: [77, 99]}\n",
      "dic_2.pop(5)->{8: [5, 7]}\n",
      "dic_update={8: [5, 7, 6, 3, 2], 9: [3, 2, 33, 55, 66]}\n",
      "dic_2.update(dic_update->{8: [5, 7, 6, 3, 2], 9: [3, 2, 33, 55, 66]}\n",
      "dic_2.get(9)->[3, 2, 33, 55, 66]\n",
      "dic_2.popitem()->{8: [5, 7, 6, 3, 2]}\n",
      "dic_3={}.fromkeys([0,1,2,3,4,'A'])->{0: None, 1: None, 2: None, 3: None, 4: None, 'A': None}\n"
     ]
    }
   ],
   "source": [
    "lst_A=list(range(6,20,3))\n",
    "lst_B=list(range(100,150,15))\n",
    "print(\"lst_A={},lst_B={}\".format(lst_A,lst_B))\n",
    "dic_2={0:lst_A,1:lst_B}\n",
    "print(\"dic_2={}\".format(dic_2))\n",
    "print(\"_\"*50)\n",
    "dic_assignment=dic_2\n",
    "print(\"dic_assignment={}\".format(dic_assignment))\n",
    "dic_2.clear()\n",
    "print(\"dic_2.clear()->{}\".format(dic_2))\n",
    "print(\"dic_assignment={}\".format(dic_assignment))\n",
    "dic_2[5]=list(range(1,9,2))\n",
    "print(\"dic_2[5]=list(range(1,9,2))->{}\".format(dic_2))\n",
    "dic_copy=dic_2.copy()\n",
    "print(\"dic_copy=dic_2.copy()->{}\".format(dic_copy))\n",
    "dic_2[8]=[5,7]\n",
    "print(\"dic_2[8]=[5,7]->{}\".format(dic_2))\n",
    "print(\"dic_copy={}\".format(dic_copy))\n",
    "dic_copy[5].remove(5)\n",
    "print(\"dic_copy[5].remove(5)->{}\".format(dic_copy))\n",
    "dic_copy.setdefault(6,[77,99]) #返回指定键的值，如果不存在该键，则字典增加新的键/值对\n",
    "print(\"dic_copy.setdefault(6,[77,99])->{}\".format(dic_copy))\n",
    "dic_2.pop(5) #移除指定键/值，并返回该值\n",
    "print(\"dic_2.pop(5)->{}\".format(dic_2))\n",
    "dic_update={8:[5,7,6,3,2],9:[3,2,33,55,66]}\n",
    "print(\"dic_update={}\".format(dic_update))\n",
    "dic_2.update(dic_update) #更新字典\n",
    "print(\"dic_2.update(dic_update->{}\".format(dic_2))\n",
    "print(\"dic_2.get(9)->{}\".format(dic_2.get(9)))\n",
    "dic_2.popitem() #随即弹出一对键/值，并在该字典中移除\n",
    "print(\"dic_2.popitem()->{}\".format(dic_2))\n",
    "\n",
    "dic_3={}.fromkeys([0,1,2,3,4,'A']) #给定键，建立值为空的字典\n",
    "print(\"dic_3={}\"+\".fromkeys([0,1,2,3,4,'A'])->{}\".format(dic_3)) #找下escape characters 脱字符\n"
   ]
  },
  {
   "cell_type": "markdown",
   "id": "21b8633a-20c3-4d1f-bade-630c8beed49d",
   "metadata": {},
   "source": [
    "string 基础"
   ]
  },
  {
   "cell_type": "code",
   "execution_count": 8,
   "id": "c3652692-6629-4e41-9df2-38b33f5c1632",
   "metadata": {},
   "outputs": [
    {
     "name": "stdout",
     "output_type": "stream",
     "text": [
      "lst_s_3=list(\"Hello Python!\")->['H', 'e', 'l', 'l', 'o', ' ', 'P', 'y', 't', 'h', 'o', 'n', '!']\n",
      "\"Hellow\"+\" Python!\"->Hellow Python!\n",
      "\"+\".join(str(123456))->1+2+3+4+5+6\n",
      "len(\"Hellow Python!\")->14\n",
      "coordinates.split(\",\")->['120.132007', '30.300508', '9.7']\n",
      "eval(coordinates)->(120.132007, 30.300508, 9.7)\n",
      "\"Hello Python!\".lower()->hello python!\n",
      "\"Hello Python!\".upper()->HELLO PYTHON!\n",
      "\"Hello Python!\"[6:]->Python!\n",
      "\"    Hello Python!    \".strip()->Hello Python!\n",
      "\"Hello Python!\".replace(\"Python\",\"Grasshopper\")->Hello Grasshopper!\n",
      "hello_lst.sort()>[' ', '!', 'H', 'P', 'e', 'h', 'l', 'l', 'n', 'o', 'o', 't', 'y']\n",
      "\"Hello Python!\".find(\"Py\")->6\n"
     ]
    }
   ],
   "source": [
    "lst_s_3=list(\"Hello Python!\")\n",
    "print(\"lst_s_3=list(\\\"Hello Python!\\\")->{}\".format(lst_s_3)) #\"\\\" escape character\n",
    "print(\"\\\"Hellow\\\"+\\\" Python!\\\"->{}\".format(\"Hellow\"+\" Python!\"))\n",
    "print(\"\\\"+\\\".join(str(123456))->{}\".format(\"+\".join(str(123456))))\n",
    "print(\"len(\\\"Hellow Python!\\\")->{}\".format(len(\"Hellow Python!\")))\n",
    "coordinates=\"120.132007,30.300508,9.7\"\n",
    "print(\"coordinates.split(\\\",\\\")->{}\".format(coordinates.split(\",\")))\n",
    "print(\"eval(coordinates)->{}\".format(eval(coordinates))) #通常用eval()方法将字符串，转换为对应数值形式；\n",
    "print(\"\\\"Hello Python!\\\".lower()->{}\".format(\"Hello Python!\".lower()))\n",
    "print(\"\\\"Hello Python!\\\".upper()->{}\".format(\"Hello Python!\".upper()))\n",
    "print(\"\\\"Hello Python!\\\"[6:]->{}\".format(\"Hello Python!\"[6:]))\n",
    "print(\"\\\"    Hello Python!    \\\".strip()->{}\".format(\"    Hello Python!    \".strip()))\n",
    "print(\"\\\"Hello Python!\\\".replace(\\\"Python\\\",\\\"Grasshopper\\\")->{}\".format(\"Hello Python!\".replace(\"Python\",\"Grasshopper\")))\n",
    "hello_lst=list(\"Hello Python!\")\n",
    "hello_lst.sort()\n",
    "print(\"hello_lst.sort()>{}\".format(hello_lst))\n",
    "print(\"\\\"Hello Python!\\\".find(\\\"Py\\\")->{}\".format(\"Hello Python!\".find(\"Py\")))\n"
   ]
  },
  {
   "cell_type": "markdown",
   "id": "4187d4f4-61a4-4ccc-bc89-342ebfff9010",
   "metadata": {},
   "source": [
    "字符串格式化"
   ]
  },
  {
   "cell_type": "code",
   "execution_count": 9,
   "id": "adb66afd-8e8b-4a07-ac40-18ad8285f83d",
   "metadata": {},
   "outputs": [
    {
     "name": "stdout",
     "output_type": "stream",
     "text": [
      "new_str=format_str % values->Hello,Python and Grasshopper!\n",
      "new_str_2=format_str_2 % (pi,3.1415926)->Pi with three decimals:3.142,and enter a value with percent sign:3.14 %\n"
     ]
    }
   ],
   "source": [
    "format_str=\"Hello,%s and %s!\"\n",
    "values=(\"Python\",\"Grasshopper\")\n",
    "new_str=format_str % values\n",
    "print(\"new_str=format_str % values->{}\".format(new_str))\n",
    "\n",
    "format_str_2=\"Pi with three decimals:%.3f,and enter a value with percent sign:%.2f %%\" #如果字符串里包含实际的%，则通过%%即两个百分号进行转义\n",
    "\n",
    "from math import pi\n",
    "new_str_2=format_str_2 % (pi,3.1415926)\n",
    "print(\"new_str_2=format_str_2 % (pi,3.1415926)->{}\".format(new_str_2))\n"
   ]
  },
  {
   "cell_type": "code",
   "execution_count": 10,
   "id": "a7a880bb-8163-467a-998f-f6e552f7f513",
   "metadata": {},
   "outputs": [
    {
     "name": "stdout",
     "output_type": "stream",
     "text": [
      "  3.141593,      3.14,3.14,Hello,Hello,52,34,3.141593\n"
     ]
    }
   ],
   "source": [
    "format_str_3=\"%10f,%10.2f,%.2f,%.5s,%.*s,%d,%x,%f\"\n",
    "new_str_3=format_str_3%(pi,pi,pi,\"Hello Python!\",5,\"Hello Python!\",52,52,pi)\n",
    "print(\"{}\".format(new_str_3))\n"
   ]
  },
  {
   "cell_type": "markdown",
   "id": "69c5446b-08ff-419a-93ac-34022009deb2",
   "metadata": {},
   "source": [
    "Template()函数-模板字符串+$+st.substitute()"
   ]
  },
  {
   "cell_type": "code",
   "execution_count": 11,
   "id": "e1d2cebe-ebaa-408c-8b90-bff3762ec1db",
   "metadata": {},
   "outputs": [
    {
     "name": "stdout",
     "output_type": "stream",
     "text": [
      "s_1=s_template_1.substitute(x=\"Python\")->Python,glorious,Python!\n",
      "s_2=s_template_2.substitute(x=\"py\")->python is amazing!\n",
      "substitute_dict={'x': 'Python', 'y': 'Grasshopper'}\n",
      "s_3=s_template_3.substitute(substitute_dict)->Python and Grasshopper are both amazing!\n"
     ]
    }
   ],
   "source": [
    "from string import Template\n",
    "s_template_1=Template(\"$x,glorious,$x!\")\n",
    "s_1=s_template_1.substitute(x=\"Python\")\n",
    "print(\"s_1=s_template_1.substitute(x=\\\"Python\\\")->{}\".format(s_1))\n",
    "s_template_2=Template(\"${x}thon is amazing!\")\n",
    "s_2=s_template_2.substitute(x=\"py\")\n",
    "print(\"s_2=s_template_2.substitute(x=\\\"py\\\")->{}\".format(s_2))\n",
    "s_template_3=Template(\"$x and $y are both amazing!\")\n",
    "substitute_dict=dict([('x','Python'),('y','Grasshopper')])\n",
    "print(\"substitute_dict={}\".format(substitute_dict))\n",
    "s_3=s_template_3.substitute(substitute_dict)\n",
    "print(\"s_3=s_template_3.substitute(substitute_dict)->{}\".format(s_3))\n"
   ]
  },
  {
   "cell_type": "markdown",
   "id": "1946732f-ac4d-4e00-b672-959f2e790a50",
   "metadata": {},
   "source": [
    "string-re(regular expression)正则表达式"
   ]
  },
  {
   "cell_type": "code",
   "execution_count": 12,
   "id": "58479937-8f5b-40a2-b92d-db035c36456a",
   "metadata": {},
   "outputs": [
    {
     "name": "stdout",
     "output_type": "stream",
     "text": [
      "re.findall(pattern_1,text)->['Python']\n",
      "re.findall(pattern_2,text)->[]\n"
     ]
    }
   ],
   "source": [
    "import re\n",
    "pattern_1='Python'\n",
    "text=\"Hello Python!\"\n",
    "print(\"re.findall(pattern_1,text)->{}\".format(re.findall(pattern_1,text)))\n",
    "pattern_2='python'\n",
    "print(\"re.findall(pattern_2,text)->{}\".format(re.findall(pattern_2,text)))\n"
   ]
  },
  {
   "cell_type": "markdown",
   "id": "e50d3208-c8a6-4d23-9f33-4bb36b6304a0",
   "metadata": {},
   "source": [
    "(.)点号"
   ]
  },
  {
   "cell_type": "code",
   "execution_count": 14,
   "id": "949de23d-77e8-4855-8754-6d21f1fbb9b7",
   "metadata": {},
   "outputs": [
    {
     "name": "stdout",
     "output_type": "stream",
     "text": [
      "re.findall('.ython','Hello Python!')->['Python']\n",
      "re.findall('.ython','Hello gython!')->['gython']\n",
      "re.findall('.ython','Hello gPython!')->['Python']\n",
      "re.findall('.ython','Hello Pthon!')->[]\n"
     ]
    }
   ],
   "source": [
    "print(\"re.findall('.ython','Hello Python!')->{}\".format(re.findall('.ython','Hello Python!')))\n",
    "print(\"re.findall('.ython','Hello gython!')->{}\".format(re.findall('.ython','Hello gython!')))\n",
    "print(\"re.findall('.ython','Hello gPython!')->{}\".format(re.findall('.ython','Hello gPython!')))\n",
    "print(\"re.findall('.ython','Hello Pthon!')->{}\".format(re.findall('.ython','Hello Pthon!')))\n"
   ]
  },
  {
   "cell_type": "markdown",
   "id": "b058b1ef-04e7-4f79-aab5-bb213de27fc3",
   "metadata": {},
   "source": [
    "* + ？ {m,n}与r’string’"
   ]
  },
  {
   "cell_type": "code",
   "execution_count": 15,
   "id": "bce7276c-8364-4fa8-b7cd-2ae6f006978b",
   "metadata": {},
   "outputs": [
    {
     "name": "stdout",
     "output_type": "stream",
     "text": [
      "re.findall(r'w?cadesign\\.cn,w+\\.cadesign\\.cn','cadesign.cn,www.cadesign.cn')->['cadesign.cn,www.cadesign.cn']\n",
      "re.findall(r'w{2}\\.cadesign\\.cn','www.cadesign.cn')->['ww.cadesign.cn']\n",
      "re.findall(r'w{1,3}\\.cadesign\\.cn','www.cadesign.cn')->['www.cadesign.cn']\n"
     ]
    }
   ],
   "source": [
    "print(\"re.findall(r'w?cadesign\\.cn,w+\\.cadesign\\.cn','cadesign.cn,www.cadesign.cn')->{}\".format(re.findall(r'w?cadesign\\.cn,w+\\.cadesign\\.cn','cadesign.cn,www.cadesign.cn')))\n",
    "print(\"re.findall(r'w{2}\"+\"\\.cadesign\\.cn','www.cadesign.cn')->{}\".format(re.findall(r'w{2}\\.cadesign\\.cn','www.cadesign.cn')))\n",
    "print(\"re.findall(r'w{1,3}\"+\"\\.cadesign\\.cn','www.cadesign.cn')->{}\".format(re.findall(r'w{1,3}\\.cadesign\\.cn','www.cadesign.cn')))\n"
   ]
  },
  {
   "cell_type": "markdown",
   "id": "0ada5df9-1074-409d-aed2-d344cb6b1bdb",
   "metadata": {},
   "source": [
    "[] (^)"
   ]
  },
  {
   "cell_type": "code",
   "execution_count": 16,
   "id": "151345be-26f4-4007-bee6-b88fe296665e",
   "metadata": {},
   "outputs": [
    {
     "name": "stdout",
     "output_type": "stream",
     "text": [
      "re.findall('[Py]*thon!','Hello Python!')->['Python!']\n",
      "re.findall('[Py]*thon!','Hello Pthon!')->['Pthon!']\n",
      "re.findall('[Py]*thon!','Hello ython!')->['ython!']\n",
      "re.findall('[Py]*thon!','Hello ython!')->['thon!']\n"
     ]
    }
   ],
   "source": [
    "print(\"re.findall('[Py]*thon!','Hello Python!')->{}\".format(re.findall('[Py]*thon!','Hello Python!')))\n",
    "print(\"re.findall('[Py]*thon!','Hello Pthon!')->{}\".format(re.findall('[Py]*thon!','Hello Pthon!')))\n",
    "print(\"re.findall('[Py]*thon!','Hello ython!')->{}\".format(re.findall('[Py]*thon!','Hello ython!')))\n",
    "print(\"re.findall('[Py]*thon!','Hello ython!')->{}\".format(re.findall('[Py]*thon!','Hello thon!')))\n"
   ]
  },
  {
   "cell_type": "markdown",
   "id": "d9994bd7-719e-4803-a49e-4f0d58f56e28",
   "metadata": {},
   "source": [
    "(|)管道符号"
   ]
  },
  {
   "cell_type": "code",
   "execution_count": 17,
   "id": "2cc0af61-b797-42a9-a22d-ba6c6f3ff5cc",
   "metadata": {},
   "outputs": [
    {
     "name": "stdout",
     "output_type": "stream",
     "text": [
      "re.findall('python|grasshopper','python')->['python']\n",
      "re.findall('python|grasshopper','grasshopper')->['grasshopper']\n",
      "re.findall('python|grasshopper','grasshopper and python')->['grasshopper', 'python']\n"
     ]
    }
   ],
   "source": [
    "print(\"re.findall('python|grasshopper','python')->{}\".format(re.findall('python|grasshopper','python')))\n",
    "print(\"re.findall('python|grasshopper','grasshopper')->{}\".format(re.findall('python|grasshopper','grasshopper')))\n",
    "print(\"re.findall('python|grasshopper','grasshopper and python')->{}\".format(re.findall('python|grasshopper','grasshopper and python')))\n"
   ]
  },
  {
   "cell_type": "markdown",
   "id": "f5bd94ce-3815-4599-9ada-14298c7d8d72",
   "metadata": {},
   "source": [
    "\\d \\D"
   ]
  },
  {
   "cell_type": "code",
   "execution_count": 18,
   "id": "da813369-6f78-427c-83f1-86ad410bc7c6",
   "metadata": {},
   "outputs": [
    {
     "name": "stdout",
     "output_type": "stream",
     "text": [
      "re.findall('\\d','number=10')->['1', '0']\n",
      "re.findall('\\D','number=10')->['n', 'u', 'm', 'b', 'e', 'r', '=']\n",
      "re.findall('[^0-9]','number=10')->['n', 'u', 'm', 'b', 'e', 'r', '=']\n"
     ]
    }
   ],
   "source": [
    "print(\"re.findall('\\d','number=10')->{}\".format(re.findall('\\d','number=10')))\n",
    "print(\"re.findall('\\D','number=10')->{}\".format(re.findall('\\D','number=10')))\n",
    "print(\"re.findall('[^0-9]','number=10')->{}\".format(re.findall('[^0-9]','number=10')))\n"
   ]
  },
  {
   "cell_type": "markdown",
   "id": "4d26aa41-d6d7-4153-b534-eb393e2cd977",
   "metadata": {},
   "source": [
    "re模块的方法"
   ]
  },
  {
   "cell_type": "code",
   "execution_count": 19,
   "id": "38116bde-270e-4ccb-bc61-42eab05c3623",
   "metadata": {},
   "outputs": [
    {
     "name": "stdout",
     "output_type": "stream",
     "text": [
      "re.findall('[a-z]','python')->['p', 'y', 't', 'h', 'o', 'n']\n",
      "re.search('[a-z]+','python')-><re.Match object; span=(0, 6), match='python'>\n",
      "re.search('[a-z]+','python')->found it!\n",
      "re.split(',','Hello,,,,,,Python!')->['Hello', '', '', '', '', '', 'Python!']\n",
      "re.sub('Python','Grasshopper','Hello Python!')->Hello Grasshopper!\n",
      "pattern_compile.findall('Hello,,,,,,Python!')->['Python']\n",
      "re.match('p','python')->found it!\n"
     ]
    }
   ],
   "source": [
    "print(\"re.findall('[a-z]','python')->{}\".format(re.findall('[a-z]','python-3.0')))\n",
    "print(\"re.search('[a-z]+','python')->{}\".format(re.search('[a-z]+','python')))\n",
    "if re.search('[a-z]+','python'):\n",
    "    print(\"re.search('[a-z]+','python')->found it!\")\n",
    "print(\"re.split(',','Hello,,,,,,Python!')->{}\".format(re.split(',','Hello,,,,,,Python!')))\n",
    "print(\"re.sub('Python','Grasshopper','Hello Python!')->{}\".format(re.sub('Python','Grasshopper','Hello Python!')))\n",
    "\n",
    "pattern_compile=re.compile('Python')\n",
    "print(\"pattern_compile.findall('Hello,,,,,,Python!')->{}\".format(pattern_compile.findall('Hello,,,,,,Python!')))\n",
    "\n",
    "if re.match('p','python'):\n",
    "    print(\"re.match('p','python')->found it!\")\n"
   ]
  },
  {
   "cell_type": "code",
   "execution_count": 20,
   "id": "8c2c9bc5-8c9b-4057-bc8c-f646a55825cb",
   "metadata": {},
   "outputs": [
    {
     "name": "stdout",
     "output_type": "stream",
     "text": [
      "'python'.find('python')->0\n",
      "'python'.find('thon')->2\n",
      "'python'.find('a')->-1\n",
      "'p' in 'python'->True\n"
     ]
    }
   ],
   "source": [
    "print(\"\\'python\\'.find(\\'python\\')->{}\".format('python'.find('python')))\n",
    "print(\"\\'python\\'.find(\\'thon\\')->{}\".format('python'.find('thon')))\n",
    "print(\"\\'python\\'.find(\\'a\\')->{}\".format('python'.find('a')))\n",
    "print(\"\\'p\\' in \\'python\\'->{}\".format('p' in 'python'))"
   ]
  },
  {
   "cell_type": "code",
   "execution_count": 21,
   "id": "179a394d-2b77-4e01-829d-705a4f876383",
   "metadata": {},
   "outputs": [
    {
     "name": "stdout",
     "output_type": "stream",
     "text": [
      "'Hello,,,,,,Python!'.split(',')->['Hello', '', '', '', '', '', 'Python!']\n",
      "'Hello Python!'.replace('Python','Grasshopper')->Hello Grasshopper!\n"
     ]
    }
   ],
   "source": [
    "print(\"\\'Hello,,,,,,Python!\\'.split(',')->{}\".format( 'Hello,,,,,,Python!'.split(',')))\n",
    "print(\"\\'Hello Python!\\'.replace(\\'Python\\',\\'Grasshopper\\')->{}\".format( 'Hello Python!'.replace('Python','Grasshopper')))"
   ]
  },
  {
   "cell_type": "markdown",
   "id": "e7963776-2d86-4d13-8589-58c68a9dc37e",
   "metadata": {},
   "source": [
    "匹配对象和组"
   ]
  },
  {
   "cell_type": "code",
   "execution_count": 22,
   "id": "d91e6d16-8cb0-4f80-b71c-0ca468bd64cd",
   "metadata": {},
   "outputs": [
    {
     "name": "stdout",
     "output_type": "stream",
     "text": [
      "match_1.gourp(1)->python\n",
      "match_1.start(1)->4\n",
      "match_1.end(1)->10\n",
      "match_1.span(1)->(4, 10)\n",
      "match_2.group(1)->python\n",
      "match_2.group(2)->org\n"
     ]
    }
   ],
   "source": [
    "match_1=re.match(r'www\\.(.*)\\..{3}','www.python.org')\n",
    "print(\"match_1.gourp(1)->{}\".format(match_1.group(1)))\n",
    "print(\"match_1.start(1)->{}\".format(match_1.start(1)))\n",
    "print(\"match_1.end(1)->{}\".format(match_1.end(1)))\n",
    "print(\"match_1.span(1)->{}\".format(match_1.span(1)))\n",
    "match_2=re.match(r'www\\.(.*)\\.(.{3})','www.python.org')\n",
    "print(\"match_2.group(1)->{}\".format(match_2.group(1)))\n",
    "print(\"match_2.group(2)->{}\".format(match_2.group(2)))"
   ]
  },
  {
   "cell_type": "markdown",
   "id": "def8fd97-5232-4c62-b09b-9ddd5bc667e6",
   "metadata": {},
   "source": [
    " 循环语句"
   ]
  },
  {
   "cell_type": "markdown",
   "id": "97f95748-3109-43d3-a671-572e20589130",
   "metadata": {},
   "source": [
    "for循环"
   ]
  },
  {
   "cell_type": "code",
   "execution_count": 23,
   "id": "b24d3942-4458-4b41-ad7f-feb66084579e",
   "metadata": {},
   "outputs": [
    {
     "name": "stdout",
     "output_type": "stream",
     "text": [
      "lst_1=[29, 31, 33, 35]\n",
      "__________________________________________________\n",
      "for i in lst_1:\n",
      "29\n",
      "31\n",
      "33\n",
      "35\n",
      "for i in range(len(lst_1)):\n",
      "idx=0,val=29\n",
      "idx=1,val=31\n",
      "idx=2,val=33\n",
      "idx=3,val=35\n",
      "++++++++++++++++++++++++++++++++++++++++++++++++++\n",
      "dic_4={'a': 2, 'b': 3, 'c': 6, 'd': 0}\n",
      "__________________________________________________\n",
      "for k in dic_4:\n",
      "a\n",
      "b\n",
      "c\n",
      "d\n",
      "for k,v in dic_4.items():\n",
      "key=a,val=2\n",
      "key=b,val=3\n",
      "key=c,val=6\n",
      "key=d,val=0\n"
     ]
    }
   ],
   "source": [
    "lst_1=list(range(29,37,2))\n",
    "print(\"lst_1={}\".format(lst_1))\n",
    "print(\"_\"*50)\n",
    "print(\"for i in lst_1:\")\n",
    "for i in lst_1:\n",
    "    print(i)\n",
    "print(\"for i in range(len(lst_1)):\")\n",
    "for i in range(len(lst_1)):\n",
    "    print(\"idx={},val={}\".format(i,lst_1[i]))\n",
    "print(\"+\"*50)   \n",
    "dic_4=dict(a=2,b=3,c=6,d=0)\n",
    "print(\"dic_4={}\".format(dic_4))\n",
    "print(\"_\"*50)\n",
    "print(\"for k in dic_4:\")\n",
    "for k in dic_4:\n",
    "    print(k)\n",
    "print(\"for k,v in dic_4.items():\")\n",
    "for k,v in dic_4.items():\n",
    "    print(\"key={},val={}\".format(k,v))\n"
   ]
  },
  {
   "cell_type": "markdown",
   "id": "49c73693-002a-476a-81ef-1e908f0e936c",
   "metadata": {},
   "source": [
    "while循环"
   ]
  },
  {
   "cell_type": "code",
   "execution_count": 24,
   "id": "178849a6-96e0-4714-8df0-26a7860c5daf",
   "metadata": {},
   "outputs": [
    {
     "name": "stdout",
     "output_type": "stream",
     "text": [
      "x=1\n",
      "x=11\n",
      "x=21\n",
      "x=31\n",
      "x=41\n",
      "x=51\n",
      "x=61\n",
      "x=71\n",
      "x=81\n",
      "x=91\n"
     ]
    }
   ],
   "source": [
    "x=1\n",
    "while x<=100:\n",
    "    print(\"x={}\".format(x))\n",
    "    x+=10 #增量赋值; x*=2     \n"
   ]
  },
  {
   "cell_type": "code",
   "execution_count": 25,
   "id": "c413b7b2-099d-47f0-9ab7-03d3e229fae8",
   "metadata": {},
   "outputs": [
    {
     "name": "stdout",
     "output_type": "stream",
     "text": [
      "x=1\n",
      "x=11\n",
      "x=21\n",
      "x=31\n",
      "x=41\n",
      "sys.maxsize=9223372036854775807\n",
      "i=0\n",
      "i=1\n",
      "i=2\n",
      "i=3\n",
      "i=4\n",
      "i=5\n",
      "i=6\n",
      "i=7\n",
      "i=8\n",
      "i=9\n",
      "i=10\n",
      "i=11\n",
      "i=12\n",
      "i=13\n",
      "i=14\n",
      "i=15\n",
      "i=16\n",
      "i=17\n",
      "i=18\n",
      "i=19\n",
      "i=20\n"
     ]
    }
   ],
   "source": [
    "x=1\n",
    "while x<=100:\n",
    "    print(\"x={}\".format(x))\n",
    "    x+=10 \n",
    "    if x>=50:break    \n",
    "    \n",
    "import sys\n",
    "print(\"sys.maxsize={}\".format(sys.maxsize))\n",
    "for i in range(sys.maxsize):\n",
    "    print(\"i={}\".format(i))  #?\n",
    "    i+=10\n",
    "    if i>=30:break\n"
   ]
  },
  {
   "cell_type": "markdown",
   "id": "791cc91b-cf54-402d-bc5f-9a284c3c3659",
   "metadata": {},
   "source": [
    "While True/break语句"
   ]
  },
  {
   "cell_type": "markdown",
   "id": "0c755bb6-2663-444d-8859-6d275af65f74",
   "metadata": {},
   "source": [
    "并行迭代"
   ]
  },
  {
   "cell_type": "code",
   "execution_count": 29,
   "id": "824e6170-9814-4674-9f01-9ba56c4d857e",
   "metadata": {},
   "outputs": [
    {
     "name": "stdout",
     "output_type": "stream",
     "text": [
      "zip_lst=zip(lst_a,lst_b)-><zip object at 0x000001A8F925CDC0>\n",
      "dict(zip_lst)->{0: 'point_a', 1: 'point_b', 2: 'point_c', 3: 'point_d'}\n",
      "0 point_a\n",
      "1 point_b\n",
      "2 point_c\n",
      "3 point_d\n",
      "a=(0, 1, 2, 3),b=('point_a', 'point_b', 'point_c', 'point_d')\n"
     ]
    }
   ],
   "source": [
    "lst_a=[0,1,2,3]\n",
    "lst_b=['point_a','point_b','point_c','point_d']\n",
    "zip_lst=zip(lst_a,lst_b) #The zip() function takes iterables (can be zero or more), aggregates them in a tuple, and returns it.\n",
    "print(\"zip_lst=zip(lst_a,lst_b)->{}\".format(zip_lst))\n",
    "print(\"dict(zip_lst)->{}\".format(dict(zip_lst)))\n",
    "\n",
    "zip_lst=zip(lst_a,lst_b) #迭代对象临时存储，读取完后为空\n",
    "for a,b in zip_lst:\n",
    "    print(a,b)\n",
    "    \n",
    "zip_lst=zip(lst_a,lst_b)\n",
    "a,b=zip(*zip_lst)\n",
    "print(\"a={},b={}\".format(a,b))\n"
   ]
  },
  {
   "cell_type": "markdown",
   "id": "d0df68f5-808f-4490-9b95-2764d30b5c27",
   "metadata": {},
   "source": [
    "编号迭代"
   ]
  },
  {
   "cell_type": "code",
   "execution_count": 30,
   "id": "8ed0566f-05fe-4bbe-9fc8-ba791571ca8f",
   "metadata": {},
   "outputs": [
    {
     "name": "stdout",
     "output_type": "stream",
     "text": [
      "dic_4={0: 'point_a', 1: 'point_b', 2: 'point_c', 3: 'point_d'}\n",
      "dict((i,v) for i,v in enumerate(lst_c))->{0: 'point_a', 1: 'point_b', 2: 'point_c', 3: 'point_d'}\n",
      "__________________________________________________\n",
      "0:0,point_a\n",
      "1:1,point_b\n",
      "2:2,point_c\n",
      "3:3,point_d\n"
     ]
    }
   ],
   "source": [
    "lst_c=['point_a','point_b','point_c','point_d']\n",
    "dic_4={}\n",
    "for idx,value in enumerate(lst_c):\n",
    "    dic_4[idx]=value\n",
    "print(\"dic_4={}\".format(dic_4))\n",
    "print(\"dict((i,v) for i,v in enumerate(lst_c))->{}\".format(dict((i,v) for i,v in enumerate(lst_c)))) #list comprehension\n",
    "print(\"_\"*50)\n",
    "for i,(a,b) in enumerate(zip(lst_a,lst_b)):\n",
    "    print('%d:%s,%s'%(i,a,b))\n"
   ]
  },
  {
   "cell_type": "markdown",
   "id": "65124382-e80c-463e-beae-528d1a78f705",
   "metadata": {},
   "source": [
    "list comprehension(列表推导式)"
   ]
  },
  {
   "cell_type": "code",
   "execution_count": 31,
   "id": "f9114cbc-383a-4d51-9293-c5384f650697",
   "metadata": {},
   "outputs": [
    {
     "name": "stdout",
     "output_type": "stream",
     "text": [
      "[x*x for x in range(3,37,5) if x%2==0]->[64, 324, 784]\n",
      "[(x,y) for x in range(3)for y in range(2)]->[(0, 0), (0, 1), (1, 0), (1, 1), (2, 0), (2, 1)]\n",
      "[(x,y) for x,y in zip(range(3),range(2))]->[(0, 0), (1, 1)]\n",
      "[[a for a in range(1,10,3)],2,3,[b for b in range(60,100,7)],[[c for c in range(1000,2000,120)],3,9]]->[[1, 4, 7], 2, 3, [60, 67, 74, 81, 88, 95], [[1000, 1120, 1240, 1360, 1480, 1600, 1720, 1840, 1960], 3, 9]]\n",
      "flatten_lst(nested_list)->[1, 4, 7, 2, 3, 60, 67, 74, 81, 88, 95, 1000, 1120, 1240, 1360, 1480, 1600, 1720, 1840, 1960, 3, 9]\n"
     ]
    }
   ],
   "source": [
    "print(\"[x*x for x in range(3,37,5) if x%2==0]->{}\".format([x*x for x in range(3,37,5) if x%2==0]))\n",
    "print(\"[(x,y) for x in range(3)for y in range(2)]->{}\".format([(x,y) for x in range(3)for y in range(2)]))\n",
    "print(\"[(x,y) for x,y in zip(range(3),range(2))]->{}\".format([(x,y) for x,y in zip(range(3),range(2))]))\n",
    "nested_list=[[a for a in range(1,10,3)],2,3,[b for b in range(60,100,7)],[[c for c in range(1000,2000,120)],3,9]]\n",
    "print(\"[[a for a in range(1,10,3)],2,3,[b for b in range(60,100,7)],[[c for c in range(1000,2000,120)],3,9]]->{}\".format(nested_list)) #嵌套列表推导式\n",
    "\n",
    "flatten_lst=lambda lst: [m for n_lst in lst for m in flatten_lst(n_lst)] if type(lst) is list else [lst] #展平列表常用，可以放置到单独的.py文件中调用。lambda函数后文阐述\n",
    "print(\"flatten_lst(nested_list)->{}\".format(flatten_lst(nested_list)))\n"
   ]
  },
  {
   "cell_type": "markdown",
   "id": "5543748f-5e51-4a38-bdeb-a6330b935f7d",
   "metadata": {},
   "source": [
    "条件语句"
   ]
  },
  {
   "cell_type": "code",
   "execution_count": 32,
   "id": "6b79f518-00d3-4923-a60d-c06d3a5a02cb",
   "metadata": {},
   "outputs": [
    {
     "name": "stdout",
     "output_type": "stream",
     "text": [
      "x==y->True\n",
      "x is y->True\n",
      "x==z->True\n",
      "x is z->False\n",
      "x is not y->False\n",
      "x is not z->True\n",
      "id_x:1825246177152;id_y:1825246177152;id_z:1825246102528\n",
      "x=[3, 6],y=[3, 6],z=[3, 6, 9] after del x[2]\n"
     ]
    }
   ],
   "source": [
    "x=y=[3,6,9]\n",
    "z=[3,6,9]\n",
    "print(\"x==y->{}\".format(x==y))\n",
    "print(\"x is y->{}\".format(x is y))\n",
    "print(\"x==z->{}\".format(x==z))\n",
    "print(\"x is z->{}\".format(x is z))\n",
    "print(\"x is not y->{}\".format(x is not y))\n",
    "print(\"x is not z->{}\".format(x is not z))\n",
    "print(\"id_x:{};id_y:{};id_z:{}\".format(id(x),id(y),id(z))) #Memory Location\n",
    "\n",
    "del x[2]\n",
    "print(\"x={},y={},z={} after del x[2]\".format(x,y,z))\n"
   ]
  },
  {
   "cell_type": "code",
   "execution_count": 33,
   "id": "8ad15f44-2709-4314-a508-2437a19a5581",
   "metadata": {},
   "outputs": [
    {
     "name": "stdout",
     "output_type": "stream",
     "text": [
      "3 in x->True\n",
      "0 in x->False\n",
      "3 not in x->False\n",
      "0 not in x->True\n"
     ]
    }
   ],
   "source": [
    "x=[3,6,9]\n",
    "print(\"3 in x->{}\".format(3 in x))\n",
    "print(\"0 in x->{}\".format(0 in x))\n",
    "print(\"3 not in x->{}\".format(3 not in x))\n",
    "print(\"0 not in x->{}\".format(0 not in x))\n"
   ]
  },
  {
   "cell_type": "code",
   "execution_count": 34,
   "id": "381a6eb2-0c9f-4cdc-84d6-b0732175bbee",
   "metadata": {},
   "outputs": [
    {
     "name": "stdout",
     "output_type": "stream",
     "text": [
      "a<c<b kidding!!!\n"
     ]
    }
   ],
   "source": [
    "a,b,c=0,10,15\n",
    "if c>a and c<b:\n",
    "    print('a<c<b')\n",
    "else: print('a<c<b kidding!!!')\n"
   ]
  },
  {
   "cell_type": "markdown",
   "id": "dadd4a52-5b48-457d-9372-799e5e8f7606",
   "metadata": {},
   "source": [
    "函数"
   ]
  },
  {
   "cell_type": "markdown",
   "id": "216dfc70-a420-485b-8625-5fae2e83e1e6",
   "metadata": {},
   "source": [
    "定义函数"
   ]
  },
  {
   "cell_type": "code",
   "execution_count": 37,
   "id": "e170c1fd-be54-4269-91e7-619b321ad3d8",
   "metadata": {},
   "outputs": [],
   "source": [
    "def simple_func(x,y):\n",
    "    z=pow(x,2)+y\n",
    "    return z"
   ]
  },
  {
   "cell_type": "code",
   "execution_count": 38,
   "id": "1e8fbcac-c955-4026-9d45-426542e63bc2",
   "metadata": {},
   "outputs": [
    {
     "name": "stdout",
     "output_type": "stream",
     "text": [
      "simple_func(3,7)->16\n",
      "simple_func(7,3)->52\n",
      "simple_func(y=7,x=3)->16\n"
     ]
    }
   ],
   "source": [
    "print(\"simple_func(3,7)->{}\".format(simple_func(3,7)))\n",
    "print(\"simple_func(7,3)->{}\".format(simple_func(7,3)))\n",
    "print(\"simple_func(y=7,x=3)->{}\".format(simple_func(y=7,x=3)))\n"
   ]
  },
  {
   "cell_type": "code",
   "execution_count": 40,
   "id": "1cd343f7-9415-458c-bd90-4e51c0705fdc",
   "metadata": {},
   "outputs": [
    {
     "name": "stdout",
     "output_type": "stream",
     "text": [
      "fibonacci(6,9)->[5, 8, 13, 21, 34, 55, 89, 144, 233]\n",
      "fibonacci(7,9)->[8, 13, 21, 34, 55, 89, 144, 233, 377]\n"
     ]
    }
   ],
   "source": [
    "def fibonacci(s,count): #定义fib函数的方法较笨\n",
    "    fib_lst=[0,1]\n",
    "    fib_part=[]\n",
    "    if s==0 or s==1:\n",
    "        fib_part[:]=fib_lst\n",
    "        for i in range(count-2):\n",
    "            fib_part.append(fib_part[-1]+fib_part[-2])\n",
    "    else:\n",
    "        while True:\n",
    "            fib_lst[:]=[fib_lst[1],fib_lst[0]+fib_lst[1]]\n",
    "            #print(fib_lst)\n",
    "            if fib_lst[1]-s>=0:break\n",
    "        fib_part[:]=fib_lst\n",
    "        if abs(fib_lst[0]-s)>=abs(fib_lst[1]-s):\n",
    "            for i in range(count-1):\n",
    "                fib_part.append(fib_part[-1]+fib_part[-2])\n",
    "            fib_part.pop(0)\n",
    "        else:\n",
    "            for i in range(count-2):\n",
    "                fib_part.append(fib_part[-1]+fib_part[-2])\n",
    "    return fib_part\n",
    "\n",
    "print(\"fibonacci(6,9)->{}\".format(fibonacci(6,9)))\n",
    "print(\"fibonacci(7,9)->{}\".format(fibonacci(7,9)))\n"
   ]
  },
  {
   "cell_type": "markdown",
   "id": "c5beff1c-8a93-4f03-9e01-2dacafab7e78",
   "metadata": {},
   "source": [
    "递归"
   ]
  },
  {
   "cell_type": "code",
   "execution_count": 41,
   "id": "b43b37b7-67ef-4024-b3f8-be392d80af93",
   "metadata": {},
   "outputs": [
    {
     "name": "stdout",
     "output_type": "stream",
     "text": [
      "5040\n"
     ]
    }
   ],
   "source": [
    "def factorial(n):\n",
    "    if n==1:\n",
    "        return 1\n",
    "    else:\n",
    "        return n*factorial(n-1)\n",
    "print(factorial(7))\n"
   ]
  },
  {
   "cell_type": "markdown",
   "id": "b833bdb6-1af7-41b2-ae80-52fc929c2a2d",
   "metadata": {},
   "source": [
    "类 class"
   ]
  },
  {
   "cell_type": "markdown",
   "id": "7385f1f3-65ba-4db1-93c1-31725f3ae1dd",
   "metadata": {},
   "source": [
    " 定义类"
   ]
  },
  {
   "cell_type": "code",
   "execution_count": 45,
   "id": "41e11264-9f59-42f9-a533-e36b04789311",
   "metadata": {},
   "outputs": [
    {
     "name": "stdout",
     "output_type": "stream",
     "text": [
      "swift.fly->Whirring\n",
      "swift.eat()->\n",
      "Aaaah...\n",
      "swift.eat()->\n",
      "No.Thanks!\n",
      "swift.sing()->\n",
      "Squawk!\n"
     ]
    }
   ],
   "source": [
    "swift=Apodidae()\n",
    "print(\"swift.fly->{}\".format(swift.fly))\n",
    "print(\"swift.eat()->\")\n",
    "swift.eat()\n",
    "print(\"swift.eat()->\")\n",
    "swift.eat()\n",
    "print(\"swift.sing()->\")\n",
    "swift.sing()\n"
   ]
  },
  {
   "cell_type": "markdown",
   "id": "5c47fcd4-c4a9-4a67-9ecf-1458c924ce83",
   "metadata": {},
   "source": [
    "类与类的实例"
   ]
  },
  {
   "cell_type": "code",
   "execution_count": 46,
   "id": "fcb3df15-4e15-44b9-9853-7c6c73f84f50",
   "metadata": {},
   "outputs": [
    {
     "name": "stdout",
     "output_type": "stream",
     "text": [
      "blackswift.sing()->\n",
      "Squawk!\n",
      "scarceswift.sing()->\n",
      "Squawk!\n"
     ]
    }
   ],
   "source": [
    "blackswift=Apodidae()\n",
    "scarceswift=Apodidae()\n",
    "print(\"blackswift.sing()->\")\n",
    "blackswift.sing()\n",
    "print(\"scarceswift.sing()->\")\n",
    "scarceswift.sing()\n"
   ]
  },
  {
   "cell_type": "markdown",
   "id": "96e74a97-e3a8-49d6-bb74-13cddf028505",
   "metadata": {},
   "source": [
    "类的属性"
   ]
  },
  {
   "cell_type": "code",
   "execution_count": 47,
   "id": "5ee9c3a2-6753-4fa6-ab0f-1e6c11a2c974",
   "metadata": {},
   "outputs": [
    {
     "name": "stdout",
     "output_type": "stream",
     "text": [
      "blackswift.fly->Whirring\n",
      "blackswift.fly after redefining the blackswif's attribute->humming\n",
      "scarceswift.fly->Whirring\n"
     ]
    }
   ],
   "source": [
    "print(\"blackswift.fly->{}\".format(blackswift.fly))\n",
    "blackswift.fly='humming' #重新赋予实例的属性\n",
    "print(\"blackswift.fly after redefining the blackswif's attribute->{}\".format(blackswift.fly))\n",
    "print(\"scarceswift.fly->{}\".format(scarceswift.fly))\n"
   ]
  },
  {
   "cell_type": "markdown",
   "id": "decd7f11-2c11-4282-80d4-5e602dae7be2",
   "metadata": {},
   "source": [
    "迭代+迭代器"
   ]
  },
  {
   "cell_type": "code",
   "execution_count": 49,
   "id": "c0e0c016-b720-4312-926f-57ccfdab04fc",
   "metadata": {},
   "outputs": [
    {
     "name": "stdout",
     "output_type": "stream",
     "text": [
      "fa=[1, 1, 2, 3, 5, 8, 13, 21, 34]\n",
      "fb=[55, 89, 144, 233, 377]\n"
     ]
    }
   ],
   "source": [
    "f=Fibs()\n",
    "fa=[]\n",
    "fb=[]\n",
    "for i in range(9):\n",
    "    fa.append(f.next())\n",
    "print(\"fa={}\".format(fa))\n",
    "for i in range(5):\n",
    "    fb.append(f.next())\n",
    "print(\"fb={}\".format(fb))\n"
   ]
  },
  {
   "cell_type": "markdown",
   "id": "c8f78856-839e-46fa-a4ca-bda95322d44b",
   "metadata": {},
   "source": [
    "生成器(generator)"
   ]
  },
  {
   "cell_type": "code",
   "execution_count": 51,
   "id": "ed75ac29-2eca-4631-8134-4e9b1d1a4846",
   "metadata": {},
   "outputs": [
    {
     "name": "stdout",
     "output_type": "stream",
     "text": [
      "lst_e=[[3, 6, 9, 12, 15, 18], [3, 7, 67, [0, 1, 2, 3, 4], 89]]\n",
      "__________________________________________________\n",
      "flatten_lst=[3, 6, 9, 12, 15, 18, 3, 7, 67, 0, 1, 2, 3, 4, 89]\n"
     ]
    }
   ],
   "source": [
    "lst_e=[list(range(3,20,3)),[3,7,67,list(range(5)),89]]\n",
    "print(\"lst_e={}\".format(lst_e))\n",
    "print(\"_\"*50)\n",
    "flatten_lst=[]\n",
    "for v_1 in lst_e:\n",
    "    try:\n",
    "        for v_2 in v_1:\n",
    "            try:\n",
    "                for v_3 in v_2:\n",
    "                    flatten_lst.append(v_3)\n",
    "            except TypeError:\n",
    "                flatten_lst.append(v_2)\n",
    "    except TypeError:\n",
    "        flatten_lst.append(v_1)\n",
    "print(\"flatten_lst={}\".format(flatten_lst))\n"
   ]
  },
  {
   "cell_type": "markdown",
   "id": "775a73d9-bb93-4aa7-9694-c214da1eca18",
   "metadata": {},
   "source": [
    "生成器方法"
   ]
  },
  {
   "cell_type": "code",
   "execution_count": 53,
   "id": "55f625af-a73b-4582-8394-a92e06de8e66",
   "metadata": {},
   "outputs": [
    {
     "name": "stdout",
     "output_type": "stream",
     "text": [
      "list(flatten(lst_e))->[3, 6, 9, 12, 15, 18, 3, 7, 67, 0, 1, 2, 3, 4, 89]\n"
     ]
    }
   ],
   "source": [
    "def flatten(lst): #定义生成器（包含yield语句的函数）\n",
    "    try: #使用语句try\\except捕捉异常        \n",
    "        for n_lst in lst:  #循环列表            \n",
    "            for m in flatten(n_lst): #使用递归的方法循环子列表                \n",
    "                yield m  #使用yield语句，每次产生多个值，当返回一个值时函数就会被冻结，当再次激活时，从停止的那点开始执行\n",
    "    except TypeError:  #当函数被告知展开一个元素时，引发TypeError异常，生成器返回一个值\n",
    "        yield lst #生成器返回引发异常的一个值        \n",
    "print(\"list(flatten(lst_e))->{}\".format(list(flatten(lst_e))))\n"
   ]
  },
  {
   "cell_type": "markdown",
   "id": "fb74a80a-6e14-474b-981a-d95a14fcb229",
   "metadata": {},
   "source": [
    "建立无穷列表"
   ]
  },
  {
   "cell_type": "code",
   "execution_count": 54,
   "id": "ffe695d9-6a2c-41a9-9983-7e321a16f904",
   "metadata": {},
   "outputs": [
    {
     "name": "stdout",
     "output_type": "stream",
     "text": [
      "next(n)->num#0\n",
      "next(n)->num#1\n",
      "next(n)->num#2\n",
      "[next(n) for i in range(5)]->['num#3', 'num#4', 'num#5', 'num#6', 'num#7']\n"
     ]
    }
   ],
   "source": [
    "def infinite():\n",
    "    n=0\n",
    "    while True:\n",
    "        yield 'num#'+str(n)\n",
    "        n+=1\n",
    "n=infinite()\n",
    "print(\"next(n)->{}\".format(next(n)))\n",
    "print(\"next(n)->{}\".format(next(n)))\n",
    "print(\"next(n)->{}\".format(next(n)))\n",
    "print(\"[next(n) for i in range(5)]->{}\".format([next(n) for i in range(5)]))"
   ]
  },
  {
   "cell_type": "markdown",
   "id": "e7efef2b-4521-4af3-9813-b5630d5e234a",
   "metadata": {},
   "source": [
    "生成器表达式(generator expression)"
   ]
  },
  {
   "cell_type": "code",
   "execution_count": 56,
   "id": "a0060771-2753-4592-807d-b4ec18fc8a12",
   "metadata": {},
   "outputs": [
    {
     "name": "stdout",
     "output_type": "stream",
     "text": [
      "[[(2*pi*(2*(u/(n-1))-1),2*pi*(2*(v/(n-1))-1)) for u in range(n)] for v in range(n)]->[[(-6.283185307179586, -6.283185307179586), (0.0, -6.283185307179586), (6.283185307179586, -6.283185307179586)], [(-6.283185307179586, 0.0), (0.0, 0.0), (6.283185307179586, 0.0)], [(-6.283185307179586, 6.283185307179586), (0.0, 6.283185307179586), (6.283185307179586, 6.283185307179586)]]\n",
      "__________________________________________________\n",
      "([(2*pi*(2*(u/(n-1))-1),2*pi*(2*(v/(n-1))-1)) for u in range(n)] for v in range(n))-><generator object <genexpr> at 0x000001A8F927E040>\n",
      "next(gen)->[(-6.283185307179586, -6.283185307179586), (0.0, -6.283185307179586), (6.283185307179586, -6.283185307179586)]\n",
      "next(gen)->[(-6.283185307179586, 0.0), (0.0, 0.0), (6.283185307179586, 0.0)]\n"
     ]
    }
   ],
   "source": [
    "n=3\n",
    "print(\"[[(2*pi*(2*(u/(n-1))-1),2*pi*(2*(v/(n-1))-1)) for u in range(n)] for v in range(n)]->{}\".format([[(2*pi*(2*(u/(n-1))-1),2*pi*(2*(v/(n-1))-1)) for u in range(n)] for v in range(n)]))\n",
    "print(\"_\"*50)\n",
    "print(\"([(2*pi*(2*(u/(n-1))-1),2*pi*(2*(v/(n-1))-1)) for u in range(n)] for v in range(n))->{}\".format(([(2*pi*(2*(u/(n-1))-1),2*pi*(2*(v/(n-1))-1)) for u in range(n)] for v in range(n))))\n",
    "gen=([(2*pi*(2*(u/(n-1))-1),2*pi*(2*(v/(n-1))-1)) for u in range(n)] for v in range(n))\n",
    "print(\"next(gen)->{}\".format(next(gen)))\n",
    "print(\"next(gen)->{}\".format(next(gen)))"
   ]
  },
  {
   "cell_type": "markdown",
   "id": "c39e8eb3-ba04-4545-9550-c40c26cec812",
   "metadata": {},
   "source": [
    "异常"
   ]
  },
  {
   "cell_type": "code",
   "execution_count": 58,
   "id": "296ca6a0-c438-430a-abd9-c581d9e76ad5",
   "metadata": {},
   "outputs": [
    {
     "name": "stdout",
     "output_type": "stream",
     "text": [
      "f_convert_f('3.1415')->3.1415\n",
      "f_convert_f('string')->None\n",
      "f_convert_f(3,6,7)->None\n"
     ]
    }
   ],
   "source": [
    "def f_convert_f(x):\n",
    "    try:\n",
    "        return float(x)\n",
    "    except (ValueError,TypeError) as e:\n",
    "        pass\n",
    "print(\"f_convert_f('3.1415')->{}\".format(f_convert_f('3.1415')))    \n",
    "print(\"f_convert_f('string')->{}\".format(f_convert_f('string')))  \n",
    "print(\"f_convert_f(3,6,7)->{}\".format(f_convert_f((3,6,7))))     \n"
   ]
  },
  {
   "cell_type": "code",
   "execution_count": 59,
   "id": "df92061c-1895-42eb-a244-e809dbb5721c",
   "metadata": {},
   "outputs": [
    {
     "name": "stdout",
     "output_type": "stream",
     "text": [
      "Unable to open ./data/tryException.txt :[Errno 2] No such file or directory: './data/tryException.txt'\n",
      "\n",
      "tryException_content->None\n",
      "Unable to open ./data/tryException_.txt :[Errno 2] No such file or directory: './data/tryException_.txt'\n",
      "\n"
     ]
    }
   ],
   "source": [
    "def f_open_a(fp):\n",
    "    try:\n",
    "        f=open(fp,'r')\n",
    "    except IOError as e:\n",
    "        print('Unable to open',fp,':%s\\n' %e)\n",
    "    else:\n",
    "        data=f.read()\n",
    "        f.close\n",
    "        return data\n",
    "tryException_content=f_open_a(\"./data/tryException.txt\")   \n",
    "print(\"tryException_content->{}\".format(tryException_content))\n",
    "f_open_a(\"./data/tryException_.txt\")\n"
   ]
  },
  {
   "cell_type": "code",
   "execution_count": null,
   "id": "da22f471-ff61-4d85-9538-403b6190402c",
   "metadata": {},
   "outputs": [],
   "source": []
  }
 ],
 "metadata": {
  "kernelspec": {
   "display_name": "Python 3",
   "language": "python",
   "name": "python3"
  },
  "language_info": {
   "codemirror_mode": {
    "name": "ipython",
    "version": 3
   },
   "file_extension": ".py",
   "mimetype": "text/x-python",
   "name": "python",
   "nbconvert_exporter": "python",
   "pygments_lexer": "ipython3",
   "version": "3.8.8"
  }
 },
 "nbformat": 4,
 "nbformat_minor": 5
}
